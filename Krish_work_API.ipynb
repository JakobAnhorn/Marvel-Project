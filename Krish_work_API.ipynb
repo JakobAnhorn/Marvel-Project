{
 "cells": [
  {
   "cell_type": "code",
   "execution_count": 262,
   "id": "3d626c54",
   "metadata": {},
   "outputs": [],
   "source": [
    "# Dependencies and Setup\n",
    "import matplotlib.pyplot as plt\n",
    "import pandas as pd\n",
    "import numpy as np\n",
    "import requests\n",
    "import time\n",
    "import hashlib\n",
    "\n",
    "import json\n",
    "\n",
    "#import marvel api keys\n",
    "from api_keys import marvelpub_api_key\n",
    "from api_keys import marvelpri_key"
   ]
  },
  {
   "cell_type": "code",
   "execution_count": 263,
   "id": "22eca950",
   "metadata": {},
   "outputs": [
    {
     "name": "stdout",
     "output_type": "stream",
     "text": [
      "https://gateway.marvel.com/v1/public/characters?ts=1695317341.3880918&apikey=fb40911e1ded92f137e9397e0925a78e&hash=b5e522d4c79d4aa94216f98e6fb36702\n",
      "https://gateway.marvel.com/v1/public/comics?ts=1695317341.3880918&apikey=fb40911e1ded92f137e9397e0925a78e&hash=b5e522d4c79d4aa94216f98e6fb36702\n",
      "https://gateway.marvel.com/v1/public/creators?ts=1695317341.3880918&apikey=fb40911e1ded92f137e9397e0925a78e&hash=b5e522d4c79d4aa94216f98e6fb36702\n",
      "https://gateway.marvel.com/v1/public/events?ts=1695317341.3880918&apikey=fb40911e1ded92f137e9397e0925a78e&hash=b5e522d4c79d4aa94216f98e6fb36702\n",
      "<Response [200]>\n"
     ]
    }
   ],
   "source": [
    "\n",
    "#Constructing the Hash\n",
    "m = hashlib.md5()   #I'm assigning the method to the variable m.  Marvel requires md5 hashing\n",
    "\n",
    "ts = str(time.time())   #This creates the time stamp as a string\n",
    "ts_byte = bytes(ts, 'utf-8')  #This converts the timestamp into a byte \n",
    "m.update(ts_byte)  # I add the timestamp (in byte format) to the hash\n",
    "\n",
    "\n",
    "private_key_byte = bytes(marvelpri_key, 'utf-8')\n",
    "public_key_byte = bytes(marvelpub_api_key, 'utf-8')\n",
    "\n",
    "m.update(private_key_byte) # I add api keys to the hash\n",
    "m.update(public_key_byte)\n",
    "\n",
    "hasht = m.hexdigest() # creating hash with ts, api keys (both)\n",
    "\n",
    "#constructing the query\n",
    "base_url = \"https://gateway.marvel.com\"  \n",
    "api_key = marvelpub_api_key \n",
    "query_characters = \"/v1/public/characters\" +\"?\" \n",
    "query_comics = \"/v1/public/comics\" +\"?\"\n",
    "query_creators = \"/v1/public/creators\" +\"?\"\n",
    "query_events = \"/v1/public/events\" +\"?\"\n",
    "\n",
    "#Building the actual query from the information above\n",
    "character_url = base_url + query_characters +\"ts=\" + ts+ \"&apikey=\" + api_key + \"&hash=\" +hasht\n",
    "print(character_url)\n",
    "\n",
    "#comics \n",
    "comics_url = base_url + query_comics +\"ts=\" + ts+ \"&apikey=\" + api_key + \"&hash=\" +hasht\n",
    "print(comics_url)\n",
    "\n",
    "# creator\n",
    "creators_url = base_url + query_creators +\"ts=\" + ts+ \"&apikey=\" + api_key + \"&hash=\" +hasht\n",
    "print(creators_url)\n",
    "\n",
    "# events\n",
    "events_url = base_url + query_events +\"ts=\" + ts+ \"&apikey=\" + api_key + \"&hash=\" +hasht\n",
    "print(events_url)\n",
    "\n",
    "\n",
    "#Making the API request and receiving info back as a json\n",
    "characters_response = requests.get(character_url)\n",
    "print(characters_response)\n"
   ]
  },
  {
   "cell_type": "code",
   "execution_count": 264,
   "id": "c4d595d3",
   "metadata": {},
   "outputs": [],
   "source": [
    "def get_creator_df(offset='1'):\n",
    "    creators_url = base_url + query_creators +\"ts=\" + ts+ \"&apikey=\" + api_key + \"&hash=\" +hasht+\"&limit=100&offset=\"+offset\n",
    "    creator_response = requests.get(creators_url)\n",
    "    creators_data = json.loads(creator_response.text)\n",
    "    creators_df = pd.DataFrame(creators_data['data']['results'])\n",
    "    return creators_df\n",
    "    "
   ]
  },
  {
   "cell_type": "code",
   "execution_count": 265,
   "id": "9a93136c",
   "metadata": {},
   "outputs": [],
   "source": [
    "creator_df1 = get_creator_df('1')\n",
    "creator_df2 = get_creator_df('2')\n",
    "creator_df3 = get_creator_df('3')\n",
    "creator_df4 = get_creator_df('4')\n",
    "creator_df5 = get_creator_df('5')\n"
   ]
  },
  {
   "cell_type": "code",
   "execution_count": 266,
   "id": "7bd61192",
   "metadata": {},
   "outputs": [
    {
     "data": {
      "text/plain": [
       "(500, 15)"
      ]
     },
     "execution_count": 266,
     "metadata": {},
     "output_type": "execute_result"
    }
   ],
   "source": [
    "creator_df = pd.concat([creator_df1,creator_df2,creator_df3,creator_df4,creator_df5]).reset_index()\n",
    "\n",
    "creator_df.shape"
   ]
  },
  {
   "cell_type": "code",
   "execution_count": 267,
   "id": "a1bbf00a",
   "metadata": {},
   "outputs": [
    {
     "data": {
      "text/html": [
       "<div>\n",
       "<style scoped>\n",
       "    .dataframe tbody tr th:only-of-type {\n",
       "        vertical-align: middle;\n",
       "    }\n",
       "\n",
       "    .dataframe tbody tr th {\n",
       "        vertical-align: top;\n",
       "    }\n",
       "\n",
       "    .dataframe thead th {\n",
       "        text-align: right;\n",
       "    }\n",
       "</style>\n",
       "<table border=\"1\" class=\"dataframe\">\n",
       "  <thead>\n",
       "    <tr style=\"text-align: right;\">\n",
       "      <th></th>\n",
       "      <th>id</th>\n",
       "      <th>firstName</th>\n",
       "      <th>middleName</th>\n",
       "      <th>lastName</th>\n",
       "      <th>suffix</th>\n",
       "      <th>fullName</th>\n",
       "      <th>modified</th>\n",
       "      <th>thumbnail</th>\n",
       "      <th>resourceURI</th>\n",
       "      <th>comics</th>\n",
       "      <th>series</th>\n",
       "      <th>stories</th>\n",
       "      <th>events</th>\n",
       "      <th>urls</th>\n",
       "      <th>comics_available</th>\n",
       "      <th>series_available</th>\n",
       "      <th>stories_available</th>\n",
       "      <th>events_available</th>\n",
       "    </tr>\n",
       "  </thead>\n",
       "  <tbody>\n",
       "    <tr>\n",
       "      <th>99</th>\n",
       "      <td>4404</td>\n",
       "      <td>OlyOptics.Com</td>\n",
       "      <td></td>\n",
       "      <td></td>\n",
       "      <td></td>\n",
       "      <td>OlyOptics.Com</td>\n",
       "      <td>2007-01-02T00:00:00-0500</td>\n",
       "      <td>{'path': 'http://i.annihil.us/u/prod/marvel/i/...</td>\n",
       "      <td>http://gateway.marvel.com/v1/public/creators/4404</td>\n",
       "      <td>{'available': 2, 'collectionURI': 'http://gate...</td>\n",
       "      <td>{'available': 2, 'collectionURI': 'http://gate...</td>\n",
       "      <td>{'available': 1, 'collectionURI': 'http://gate...</td>\n",
       "      <td>{'available': 0, 'collectionURI': 'http://gate...</td>\n",
       "      <td>[{'type': 'detail', 'url': 'http://marvel.com/...</td>\n",
       "      <td>1</td>\n",
       "      <td>1</td>\n",
       "      <td>1</td>\n",
       "      <td>0</td>\n",
       "    </tr>\n",
       "    <tr>\n",
       "      <th>86</th>\n",
       "      <td>3044</td>\n",
       "      <td>Morgan</td>\n",
       "      <td></td>\n",
       "      <td></td>\n",
       "      <td></td>\n",
       "      <td>Morgan</td>\n",
       "      <td>2007-01-02T00:00:00-0500</td>\n",
       "      <td>{'path': 'http://i.annihil.us/u/prod/marvel/i/...</td>\n",
       "      <td>http://gateway.marvel.com/v1/public/creators/3044</td>\n",
       "      <td>{'available': 0, 'collectionURI': 'http://gate...</td>\n",
       "      <td>{'available': 0, 'collectionURI': 'http://gate...</td>\n",
       "      <td>{'available': 0, 'collectionURI': 'http://gate...</td>\n",
       "      <td>{'available': 0, 'collectionURI': 'http://gate...</td>\n",
       "      <td>[{'type': 'detail', 'url': 'http://marvel.com/...</td>\n",
       "      <td>1</td>\n",
       "      <td>1</td>\n",
       "      <td>1</td>\n",
       "      <td>0</td>\n",
       "    </tr>\n",
       "    <tr>\n",
       "      <th>12</th>\n",
       "      <td>6919</td>\n",
       "      <td>Beckett</td>\n",
       "      <td></td>\n",
       "      <td></td>\n",
       "      <td></td>\n",
       "      <td>Beckett</td>\n",
       "      <td>2007-01-02T00:00:00-0500</td>\n",
       "      <td>{'path': 'http://i.annihil.us/u/prod/marvel/i/...</td>\n",
       "      <td>http://gateway.marvel.com/v1/public/creators/6919</td>\n",
       "      <td>{'available': 0, 'collectionURI': 'http://gate...</td>\n",
       "      <td>{'available': 0, 'collectionURI': 'http://gate...</td>\n",
       "      <td>{'available': 0, 'collectionURI': 'http://gate...</td>\n",
       "      <td>{'available': 0, 'collectionURI': 'http://gate...</td>\n",
       "      <td>[{'type': 'detail', 'url': 'http://marvel.com/...</td>\n",
       "      <td>0</td>\n",
       "      <td>0</td>\n",
       "      <td>1</td>\n",
       "      <td>0</td>\n",
       "    </tr>\n",
       "    <tr>\n",
       "      <th>80</th>\n",
       "      <td>4755</td>\n",
       "      <td>Mettier</td>\n",
       "      <td></td>\n",
       "      <td></td>\n",
       "      <td></td>\n",
       "      <td>Mettier</td>\n",
       "      <td>2007-01-02T00:00:00-0500</td>\n",
       "      <td>{'path': 'http://i.annihil.us/u/prod/marvel/i/...</td>\n",
       "      <td>http://gateway.marvel.com/v1/public/creators/4755</td>\n",
       "      <td>{'available': 0, 'collectionURI': 'http://gate...</td>\n",
       "      <td>{'available': 0, 'collectionURI': 'http://gate...</td>\n",
       "      <td>{'available': 0, 'collectionURI': 'http://gate...</td>\n",
       "      <td>{'available': 0, 'collectionURI': 'http://gate...</td>\n",
       "      <td>[{'type': 'detail', 'url': 'http://marvel.com/...</td>\n",
       "      <td>1</td>\n",
       "      <td>1</td>\n",
       "      <td>1</td>\n",
       "      <td>0</td>\n",
       "    </tr>\n",
       "    <tr>\n",
       "      <th>20</th>\n",
       "      <td>3634</td>\n",
       "      <td>Buzz</td>\n",
       "      <td></td>\n",
       "      <td></td>\n",
       "      <td></td>\n",
       "      <td>Buzz</td>\n",
       "      <td>2007-01-02T00:00:00-0500</td>\n",
       "      <td>{'path': 'http://i.annihil.us/u/prod/marvel/i/...</td>\n",
       "      <td>http://gateway.marvel.com/v1/public/creators/3634</td>\n",
       "      <td>{'available': 1, 'collectionURI': 'http://gate...</td>\n",
       "      <td>{'available': 1, 'collectionURI': 'http://gate...</td>\n",
       "      <td>{'available': 1, 'collectionURI': 'http://gate...</td>\n",
       "      <td>{'available': 0, 'collectionURI': 'http://gate...</td>\n",
       "      <td>[{'type': 'detail', 'url': 'http://marvel.com/...</td>\n",
       "      <td>10</td>\n",
       "      <td>10</td>\n",
       "      <td>11</td>\n",
       "      <td>0</td>\n",
       "    </tr>\n",
       "  </tbody>\n",
       "</table>\n",
       "</div>"
      ],
      "text/plain": [
       "      id      firstName middleName lastName suffix       fullName  \\\n",
       "99  4404  OlyOptics.Com                             OlyOptics.Com   \n",
       "86  3044         Morgan                                    Morgan   \n",
       "12  6919        Beckett                                   Beckett   \n",
       "80  4755        Mettier                                   Mettier   \n",
       "20  3634           Buzz                                      Buzz   \n",
       "\n",
       "                    modified  \\\n",
       "99  2007-01-02T00:00:00-0500   \n",
       "86  2007-01-02T00:00:00-0500   \n",
       "12  2007-01-02T00:00:00-0500   \n",
       "80  2007-01-02T00:00:00-0500   \n",
       "20  2007-01-02T00:00:00-0500   \n",
       "\n",
       "                                            thumbnail  \\\n",
       "99  {'path': 'http://i.annihil.us/u/prod/marvel/i/...   \n",
       "86  {'path': 'http://i.annihil.us/u/prod/marvel/i/...   \n",
       "12  {'path': 'http://i.annihil.us/u/prod/marvel/i/...   \n",
       "80  {'path': 'http://i.annihil.us/u/prod/marvel/i/...   \n",
       "20  {'path': 'http://i.annihil.us/u/prod/marvel/i/...   \n",
       "\n",
       "                                          resourceURI  \\\n",
       "99  http://gateway.marvel.com/v1/public/creators/4404   \n",
       "86  http://gateway.marvel.com/v1/public/creators/3044   \n",
       "12  http://gateway.marvel.com/v1/public/creators/6919   \n",
       "80  http://gateway.marvel.com/v1/public/creators/4755   \n",
       "20  http://gateway.marvel.com/v1/public/creators/3634   \n",
       "\n",
       "                                               comics  \\\n",
       "99  {'available': 2, 'collectionURI': 'http://gate...   \n",
       "86  {'available': 0, 'collectionURI': 'http://gate...   \n",
       "12  {'available': 0, 'collectionURI': 'http://gate...   \n",
       "80  {'available': 0, 'collectionURI': 'http://gate...   \n",
       "20  {'available': 1, 'collectionURI': 'http://gate...   \n",
       "\n",
       "                                               series  \\\n",
       "99  {'available': 2, 'collectionURI': 'http://gate...   \n",
       "86  {'available': 0, 'collectionURI': 'http://gate...   \n",
       "12  {'available': 0, 'collectionURI': 'http://gate...   \n",
       "80  {'available': 0, 'collectionURI': 'http://gate...   \n",
       "20  {'available': 1, 'collectionURI': 'http://gate...   \n",
       "\n",
       "                                              stories  \\\n",
       "99  {'available': 1, 'collectionURI': 'http://gate...   \n",
       "86  {'available': 0, 'collectionURI': 'http://gate...   \n",
       "12  {'available': 0, 'collectionURI': 'http://gate...   \n",
       "80  {'available': 0, 'collectionURI': 'http://gate...   \n",
       "20  {'available': 1, 'collectionURI': 'http://gate...   \n",
       "\n",
       "                                               events  \\\n",
       "99  {'available': 0, 'collectionURI': 'http://gate...   \n",
       "86  {'available': 0, 'collectionURI': 'http://gate...   \n",
       "12  {'available': 0, 'collectionURI': 'http://gate...   \n",
       "80  {'available': 0, 'collectionURI': 'http://gate...   \n",
       "20  {'available': 0, 'collectionURI': 'http://gate...   \n",
       "\n",
       "                                                 urls  comics_available  \\\n",
       "99  [{'type': 'detail', 'url': 'http://marvel.com/...                 1   \n",
       "86  [{'type': 'detail', 'url': 'http://marvel.com/...                 1   \n",
       "12  [{'type': 'detail', 'url': 'http://marvel.com/...                 0   \n",
       "80  [{'type': 'detail', 'url': 'http://marvel.com/...                 1   \n",
       "20  [{'type': 'detail', 'url': 'http://marvel.com/...                10   \n",
       "\n",
       "    series_available  stories_available  events_available  \n",
       "99                 1                  1                 0  \n",
       "86                 1                  1                 0  \n",
       "12                 0                  1                 0  \n",
       "80                 1                  1                 0  \n",
       "20                10                 11                 0  "
      ]
     },
     "execution_count": 267,
     "metadata": {},
     "output_type": "execute_result"
    }
   ],
   "source": [
    "creators_df['comics_available'] = pd.DataFrame.from_records(creators_df['comics'])['available']\n",
    "\n",
    "creators_df['series_available'] = pd.DataFrame.from_records(creators_df['series'])['available']\n",
    "\n",
    "creators_df['stories_available'] = pd.DataFrame.from_records(creators_df['stories'])['available']\n",
    "\n",
    "creators_df['events_available'] = pd.DataFrame.from_records(creators_df['events'])['available']\n",
    "creators_df.head()"
   ]
  },
  {
   "cell_type": "code",
   "execution_count": 268,
   "id": "14638ae0",
   "metadata": {},
   "outputs": [
    {
     "data": {
      "text/plain": [
       "Int64Index([99, 86, 12, 80, 20, 35, 55, 98, 51, 74, 17, 52, 40, 75, 54, 11, 46,\n",
       "            88,  9, 47, 22, 29, 68, 84, 58, 64, 91, 85, 61,  2, 56,  4, 45, 72,\n",
       "            21, 10, 62, 32, 39,  5, 15, 53, 23, 78, 77, 19, 60, 82, 18, 59, 36,\n",
       "            67, 27, 13, 24, 65, 30,  0, 94,  1, 93, 63, 38, 42, 44, 33, 76, 71,\n",
       "            69, 79, 66, 57, 25, 73, 14, 43, 90, 34, 48, 70, 49, 89, 83,  8, 26,\n",
       "             7, 87, 81, 28, 92, 96, 41, 95, 16,  3, 50, 37, 31, 97,  6],\n",
       "           dtype='int64')"
      ]
     },
     "execution_count": 268,
     "metadata": {},
     "output_type": "execute_result"
    }
   ],
   "source": [
    "creators_df.index"
   ]
  },
  {
   "cell_type": "code",
   "execution_count": 269,
   "id": "23438003",
   "metadata": {},
   "outputs": [
    {
     "data": {
      "text/plain": [
       "array(['OlyOptics.Com', 'Morgan', 'Beckett', 'Mettier', 'Buzz',\n",
       "       'Dr. Martin', 'Impacto', 'Olivetti', 'HiFi Colour', 'Malibu',\n",
       "       'Blank', 'Homer', 'Fry', 'Malibu', 'Hoon', 'Beatty', 'Guru-eFX',\n",
       "       'Muns', 'Balcells', 'Guru-eFX, Lee Duhig', 'Cafu', 'Colorgraphix',\n",
       "       'Laz', 'More', 'Jg', 'Keng', 'N/A', 'More', 'Johnsons', 'A.R.K.',\n",
       "       'Jc', 'ALSJOERDSMA', 'Gunji', 'Lopez', 'Caesar', 'Batt', 'Jr',\n",
       "       'CRISSE', 'Flaviano', 'Arno', 'Bernet', 'Homs', 'Cameron',\n",
       "       'McGray', 'Matthew', 'Brown', 'Jock', 'Moebius', 'Blond', 'Jl',\n",
       "       'Drew', 'KylLs', 'ChrisCross', 'Bengal',\n",
       "       'Chad Bowers & Chris Sims', 'Kf', 'Comicraft', '#O', 'Nichols',\n",
       "       '#X', 'Ni', 'Kano', 'Enigma', 'Gantz', 'Geoffo', 'Derek', 'Mas',\n",
       "       'Lombardia', 'Lazarelli', 'Method Man', 'KNIGHT AGENCY, INC.',\n",
       "       'Jeffery', 'Charlamagne tha God', 'Low', 'Benjamin', 'GCW',\n",
       "       'N.j.q.', 'Diverse Hands', 'GUSTAVO', 'Lazarus', 'Henkel',\n",
       "       'N. Y. tribe', 'Moede', 'Balak', 'Chiya', 'B.K.', 'Mundelo',\n",
       "       'MITRIC', 'Co.', 'Nf', 'Norton', 'Fuller', 'Njq', 'BIT',\n",
       "       'All Thumbs Creative', 'Hicks', 'Dub', 'Condoy', 'Oakley', 'Avon'],\n",
       "      dtype=object)"
      ]
     },
     "execution_count": 269,
     "metadata": {},
     "output_type": "execute_result"
    }
   ],
   "source": [
    "creators_df['firstName'].values"
   ]
  },
  {
   "cell_type": "code",
   "execution_count": 270,
   "id": "54db9d2e",
   "metadata": {},
   "outputs": [],
   "source": [
    "creators_df = creators_df.sort_values(by=['comics_available'],ascending=False)\n"
   ]
  },
  {
   "cell_type": "code",
   "execution_count": 271,
   "id": "9f968202",
   "metadata": {},
   "outputs": [
    {
     "name": "stderr",
     "output_type": "stream",
     "text": [
      "No artists with labels found to put in legend.  Note that artists whose label start with an underscore are ignored when legend() is called with no argument.\n"
     ]
    },
    {
     "data": {
      "image/png": "[encoded data removed]",
      "text/plain": [
       "<Figure size 640x480 with 1 Axes>"
      ]
     },
     "metadata": {},
     "output_type": "display_data"
    }
   ],
   "source": [
    "\n",
    "\n",
    "fig, ax = plt.subplots()\n",
    "\n",
    "x_labels = creators_df['fullName'].values[:10]\n",
    "comics_available_count = creators_df['comics_available'].values[:10]\n",
    "\n",
    "ax.bar(x_labels, comics_available_count, color=bar_colors)\n",
    "\n",
    "ax.set_xlabel('Creators ')\n",
    "ax.set_ylabel('Comics Count ')\n",
    "ax.set_title('Top 10 Comic creators')\n",
    "ax.legend(title='Comics count')\n",
    "plt.xticks(rotation=45, ha='right')\n",
    "plt.show()"
   ]
  },
  {
   "cell_type": "code",
   "execution_count": 272,
   "id": "9870ea9b",
   "metadata": {},
   "outputs": [
    {
     "name": "stderr",
     "output_type": "stream",
     "text": [
      "No artists with labels found to put in legend.  Note that artists whose label start with an underscore are ignored when legend() is called with no argument.\n"
     ]
    },
    {
     "data": {
      "image/png": "[encoded data removed]",
      "text/plain": [
       "<Figure size 640x480 with 1 Axes>"
      ]
     },
     "metadata": {},
     "output_type": "display_data"
    }
   ],
   "source": [
    "creators_df = creators_df.sort_values(by=['series_available'],ascending=False)\n",
    "fig, ax = plt.subplots()\n",
    "\n",
    "x_labels = creators_df['fullName'].values[:10]\n",
    "series_available_count = creators_df['series_available'].values[:10]\n",
    "\n",
    "ax.bar(x_labels, series_available_count, color=bar_colors)\n",
    "\n",
    "ax.set_xlabel('Creators')\n",
    "ax.set_ylabel('Series Count ')\n",
    "ax.set_title('Top 10 Series creators')\n",
    "ax.legend(title='Series count')\n",
    "plt.xticks(rotation=45, ha='right')\n",
    "plt.show()"
   ]
  },
  {
   "cell_type": "code",
   "execution_count": 273,
   "id": "d276f1d6",
   "metadata": {},
   "outputs": [
    {
     "name": "stderr",
     "output_type": "stream",
     "text": [
      "No artists with labels found to put in legend.  Note that artists whose label start with an underscore are ignored when legend() is called with no argument.\n"
     ]
    },
    {
     "data": {
      "image/png": "[encoded data removed]",
      "text/plain": [
       "<Figure size 640x480 with 1 Axes>"
      ]
     },
     "metadata": {},
     "output_type": "display_data"
    }
   ],
   "source": [
    "creators_df = creators_df.sort_values(by=['stories_available'],ascending=False)\n",
    "fig, ax = plt.subplots()\n",
    "\n",
    "x_labels = creators_df['fullName'].values[:10]\n",
    "stories_available_count = creators_df['stories_available'].values[:10]\n",
    "\n",
    "ax.bar(x_labels, stories_available_count, color=bar_colors)\n",
    "\n",
    "ax.set_xlabel('Creators')\n",
    "ax.set_ylabel('Story count ')\n",
    "ax.set_title('Top 10 Story creators')\n",
    "ax.legend(title='Stories count')\n",
    "plt.xticks(rotation=45, ha='right')\n",
    "plt.show()"
   ]
  },
  {
   "cell_type": "code",
   "execution_count": 274,
   "id": "5e069235",
   "metadata": {},
   "outputs": [
    {
     "name": "stderr",
     "output_type": "stream",
     "text": [
      "No artists with labels found to put in legend.  Note that artists whose label start with an underscore are ignored when legend() is called with no argument.\n"
     ]
    },
    {
     "data": {
      "image/png": "[encoded data removed]",
      "text/plain": [
       "<Figure size 640x480 with 1 Axes>"
      ]
     },
     "metadata": {},
     "output_type": "display_data"
    }
   ],
   "source": [
    "creators_df = creators_df.sort_values(by=['events_available'],ascending=False)\n",
    "fig, ax = plt.subplots()\n",
    "\n",
    "x_labels = creators_df['fullName'].values[:10]\n",
    "events_available_count = creators_df['events_available'].values[:10]\n",
    "\n",
    "ax.bar(x_labels, events_available_count, color=bar_colors)\n",
    "\n",
    "ax.set_xlabel('Creators')\n",
    "ax.set_ylabel('Events Count')\n",
    "ax.set_title('Top 10 Events creators')\n",
    "ax.legend(title='Events count')\n",
    "plt.xticks(rotation=45, ha='right')\n",
    "plt.show()"
   ]
  },
  {
   "cell_type": "code",
   "execution_count": 250,
   "id": "d72cd0eb",
   "metadata": {},
   "outputs": [],
   "source": [
    "def get_character_df(offset='1'):\n",
    "    character_url = base_url + query_characters +\"ts=\" + ts+ \"&apikey=\" + api_key + \"&hash=\" +hasht+\"&limit=100&offset=\"+offset\n",
    "    print(character_url)\n",
    "    character_response = requests.get(character_url)\n",
    "    character_data = json.loads(character_response.text)\n",
    "    character_df = pd.DataFrame(character_data['data']['results'])\n",
    "    return character_df\n",
    "    "
   ]
  },
  {
   "cell_type": "code",
   "execution_count": 251,
   "id": "86ceaf76",
   "metadata": {},
   "outputs": [
    {
     "name": "stdout",
     "output_type": "stream",
     "text": [
      "https://gateway.marvel.com/v1/public/characters?ts=1695258997.6594958&apikey=fb40911e1ded92f137e9397e0925a78e&hash=79de563771316b737de7109c0995fec5&limit=100&offset=1\n",
      "https://gateway.marvel.com/v1/public/characters?ts=1695258997.6594958&apikey=fb40911e1ded92f137e9397e0925a78e&hash=79de563771316b737de7109c0995fec5&limit=100&offset=2\n",
      "https://gateway.marvel.com/v1/public/characters?ts=1695258997.6594958&apikey=fb40911e1ded92f137e9397e0925a78e&hash=79de563771316b737de7109c0995fec5&limit=100&offset=3\n",
      "https://gateway.marvel.com/v1/public/characters?ts=1695258997.6594958&apikey=fb40911e1ded92f137e9397e0925a78e&hash=79de563771316b737de7109c0995fec5&limit=100&offset=4\n",
      "https://gateway.marvel.com/v1/public/characters?ts=1695258997.6594958&apikey=fb40911e1ded92f137e9397e0925a78e&hash=79de563771316b737de7109c0995fec5&limit=100&offset=5\n"
     ]
    }
   ],
   "source": [
    "character_df1 = get_character_df('1')\n",
    "character_df2 = get_character_df('2')\n",
    "character_df3 = get_character_df('3')\n",
    "character_df4 = get_character_df('4')\n",
    "character_df5 = get_character_df('5')\n"
   ]
  },
  {
   "cell_type": "code",
   "execution_count": 252,
   "id": "9292153c",
   "metadata": {},
   "outputs": [
    {
     "data": {
      "text/plain": [
       "(100, 11)"
      ]
     },
     "execution_count": 252,
     "metadata": {},
     "output_type": "execute_result"
    }
   ],
   "source": [
    "character_df5.shape"
   ]
  },
  {
   "cell_type": "code",
   "execution_count": 253,
   "id": "d03f138d",
   "metadata": {},
   "outputs": [
    {
     "data": {
      "text/plain": [
       "(500, 12)"
      ]
     },
     "execution_count": 253,
     "metadata": {},
     "output_type": "execute_result"
    }
   ],
   "source": [
    "character_df = pd.concat([character_df1,character_df2,character_df3,character_df4,character_df5]).reset_index()\n",
    "character_df.shape"
   ]
  },
  {
   "cell_type": "code",
   "execution_count": 254,
   "id": "0f0d73b4",
   "metadata": {},
   "outputs": [
    {
     "data": {
      "text/html": [
       "<div>\n",
       "<style scoped>\n",
       "    .dataframe tbody tr th:only-of-type {\n",
       "        vertical-align: middle;\n",
       "    }\n",
       "\n",
       "    .dataframe tbody tr th {\n",
       "        vertical-align: top;\n",
       "    }\n",
       "\n",
       "    .dataframe thead th {\n",
       "        text-align: right;\n",
       "    }\n",
       "</style>\n",
       "<table border=\"1\" class=\"dataframe\">\n",
       "  <thead>\n",
       "    <tr style=\"text-align: right;\">\n",
       "      <th></th>\n",
       "      <th>index</th>\n",
       "      <th>id</th>\n",
       "      <th>name</th>\n",
       "      <th>description</th>\n",
       "      <th>modified</th>\n",
       "      <th>thumbnail</th>\n",
       "      <th>resourceURI</th>\n",
       "      <th>comics</th>\n",
       "      <th>series</th>\n",
       "      <th>stories</th>\n",
       "      <th>events</th>\n",
       "      <th>urls</th>\n",
       "    </tr>\n",
       "  </thead>\n",
       "  <tbody>\n",
       "    <tr>\n",
       "      <th>0</th>\n",
       "      <td>0</td>\n",
       "      <td>1017100</td>\n",
       "      <td>A-Bomb (HAS)</td>\n",
       "      <td>Rick Jones has been Hulk's best bud since day ...</td>\n",
       "      <td>2013-09-18T15:54:04-0400</td>\n",
       "      <td>{'path': 'http://i.annihil.us/u/prod/marvel/i/...</td>\n",
       "      <td>http://gateway.marvel.com/v1/public/characters...</td>\n",
       "      <td>{'available': 4, 'collectionURI': 'http://gate...</td>\n",
       "      <td>{'available': 2, 'collectionURI': 'http://gate...</td>\n",
       "      <td>{'available': 7, 'collectionURI': 'http://gate...</td>\n",
       "      <td>{'available': 0, 'collectionURI': 'http://gate...</td>\n",
       "      <td>[{'type': 'detail', 'url': 'http://marvel.com/...</td>\n",
       "    </tr>\n",
       "    <tr>\n",
       "      <th>1</th>\n",
       "      <td>1</td>\n",
       "      <td>1009144</td>\n",
       "      <td>A.I.M.</td>\n",
       "      <td>AIM is a terrorist organization bent on destro...</td>\n",
       "      <td>2013-10-17T14:41:30-0400</td>\n",
       "      <td>{'path': 'http://i.annihil.us/u/prod/marvel/i/...</td>\n",
       "      <td>http://gateway.marvel.com/v1/public/characters...</td>\n",
       "      <td>{'available': 53, 'collectionURI': 'http://gat...</td>\n",
       "      <td>{'available': 36, 'collectionURI': 'http://gat...</td>\n",
       "      <td>{'available': 57, 'collectionURI': 'http://gat...</td>\n",
       "      <td>{'available': 0, 'collectionURI': 'http://gate...</td>\n",
       "      <td>[{'type': 'detail', 'url': 'http://marvel.com/...</td>\n",
       "    </tr>\n",
       "    <tr>\n",
       "      <th>2</th>\n",
       "      <td>2</td>\n",
       "      <td>1010699</td>\n",
       "      <td>Aaron Stack</td>\n",
       "      <td></td>\n",
       "      <td>1969-12-31T19:00:00-0500</td>\n",
       "      <td>{'path': 'http://i.annihil.us/u/prod/marvel/i/...</td>\n",
       "      <td>http://gateway.marvel.com/v1/public/characters...</td>\n",
       "      <td>{'available': 14, 'collectionURI': 'http://gat...</td>\n",
       "      <td>{'available': 3, 'collectionURI': 'http://gate...</td>\n",
       "      <td>{'available': 27, 'collectionURI': 'http://gat...</td>\n",
       "      <td>{'available': 0, 'collectionURI': 'http://gate...</td>\n",
       "      <td>[{'type': 'detail', 'url': 'http://marvel.com/...</td>\n",
       "    </tr>\n",
       "    <tr>\n",
       "      <th>3</th>\n",
       "      <td>3</td>\n",
       "      <td>1009146</td>\n",
       "      <td>Abomination (Emil Blonsky)</td>\n",
       "      <td>Formerly known as Emil Blonsky, a spy of Sovie...</td>\n",
       "      <td>2012-03-20T12:32:12-0400</td>\n",
       "      <td>{'path': 'http://i.annihil.us/u/prod/marvel/i/...</td>\n",
       "      <td>http://gateway.marvel.com/v1/public/characters...</td>\n",
       "      <td>{'available': 55, 'collectionURI': 'http://gat...</td>\n",
       "      <td>{'available': 27, 'collectionURI': 'http://gat...</td>\n",
       "      <td>{'available': 65, 'collectionURI': 'http://gat...</td>\n",
       "      <td>{'available': 1, 'collectionURI': 'http://gate...</td>\n",
       "      <td>[{'type': 'detail', 'url': 'http://marvel.com/...</td>\n",
       "    </tr>\n",
       "    <tr>\n",
       "      <th>4</th>\n",
       "      <td>4</td>\n",
       "      <td>1016823</td>\n",
       "      <td>Abomination (Ultimate)</td>\n",
       "      <td></td>\n",
       "      <td>2012-07-10T19:11:52-0400</td>\n",
       "      <td>{'path': 'http://i.annihil.us/u/prod/marvel/i/...</td>\n",
       "      <td>http://gateway.marvel.com/v1/public/characters...</td>\n",
       "      <td>{'available': 2, 'collectionURI': 'http://gate...</td>\n",
       "      <td>{'available': 2, 'collectionURI': 'http://gate...</td>\n",
       "      <td>{'available': 3, 'collectionURI': 'http://gate...</td>\n",
       "      <td>{'available': 0, 'collectionURI': 'http://gate...</td>\n",
       "      <td>[{'type': 'detail', 'url': 'http://marvel.com/...</td>\n",
       "    </tr>\n",
       "  </tbody>\n",
       "</table>\n",
       "</div>"
      ],
      "text/plain": [
       "   index       id                        name  \\\n",
       "0      0  1017100                A-Bomb (HAS)   \n",
       "1      1  1009144                      A.I.M.   \n",
       "2      2  1010699                 Aaron Stack   \n",
       "3      3  1009146  Abomination (Emil Blonsky)   \n",
       "4      4  1016823      Abomination (Ultimate)   \n",
       "\n",
       "                                         description  \\\n",
       "0  Rick Jones has been Hulk's best bud since day ...   \n",
       "1  AIM is a terrorist organization bent on destro...   \n",
       "2                                                      \n",
       "3  Formerly known as Emil Blonsky, a spy of Sovie...   \n",
       "4                                                      \n",
       "\n",
       "                   modified  \\\n",
       "0  2013-09-18T15:54:04-0400   \n",
       "1  2013-10-17T14:41:30-0400   \n",
       "2  1969-12-31T19:00:00-0500   \n",
       "3  2012-03-20T12:32:12-0400   \n",
       "4  2012-07-10T19:11:52-0400   \n",
       "\n",
       "                                           thumbnail  \\\n",
       "0  {'path': 'http://i.annihil.us/u/prod/marvel/i/...   \n",
       "1  {'path': 'http://i.annihil.us/u/prod/marvel/i/...   \n",
       "2  {'path': 'http://i.annihil.us/u/prod/marvel/i/...   \n",
       "3  {'path': 'http://i.annihil.us/u/prod/marvel/i/...   \n",
       "4  {'path': 'http://i.annihil.us/u/prod/marvel/i/...   \n",
       "\n",
       "                                         resourceURI  \\\n",
       "0  http://gateway.marvel.com/v1/public/characters...   \n",
       "1  http://gateway.marvel.com/v1/public/characters...   \n",
       "2  http://gateway.marvel.com/v1/public/characters...   \n",
       "3  http://gateway.marvel.com/v1/public/characters...   \n",
       "4  http://gateway.marvel.com/v1/public/characters...   \n",
       "\n",
       "                                              comics  \\\n",
       "0  {'available': 4, 'collectionURI': 'http://gate...   \n",
       "1  {'available': 53, 'collectionURI': 'http://gat...   \n",
       "2  {'available': 14, 'collectionURI': 'http://gat...   \n",
       "3  {'available': 55, 'collectionURI': 'http://gat...   \n",
       "4  {'available': 2, 'collectionURI': 'http://gate...   \n",
       "\n",
       "                                              series  \\\n",
       "0  {'available': 2, 'collectionURI': 'http://gate...   \n",
       "1  {'available': 36, 'collectionURI': 'http://gat...   \n",
       "2  {'available': 3, 'collectionURI': 'http://gate...   \n",
       "3  {'available': 27, 'collectionURI': 'http://gat...   \n",
       "4  {'available': 2, 'collectionURI': 'http://gate...   \n",
       "\n",
       "                                             stories  \\\n",
       "0  {'available': 7, 'collectionURI': 'http://gate...   \n",
       "1  {'available': 57, 'collectionURI': 'http://gat...   \n",
       "2  {'available': 27, 'collectionURI': 'http://gat...   \n",
       "3  {'available': 65, 'collectionURI': 'http://gat...   \n",
       "4  {'available': 3, 'collectionURI': 'http://gate...   \n",
       "\n",
       "                                              events  \\\n",
       "0  {'available': 0, 'collectionURI': 'http://gate...   \n",
       "1  {'available': 0, 'collectionURI': 'http://gate...   \n",
       "2  {'available': 0, 'collectionURI': 'http://gate...   \n",
       "3  {'available': 1, 'collectionURI': 'http://gate...   \n",
       "4  {'available': 0, 'collectionURI': 'http://gate...   \n",
       "\n",
       "                                                urls  \n",
       "0  [{'type': 'detail', 'url': 'http://marvel.com/...  \n",
       "1  [{'type': 'detail', 'url': 'http://marvel.com/...  \n",
       "2  [{'type': 'detail', 'url': 'http://marvel.com/...  \n",
       "3  [{'type': 'detail', 'url': 'http://marvel.com/...  \n",
       "4  [{'type': 'detail', 'url': 'http://marvel.com/...  "
      ]
     },
     "execution_count": 254,
     "metadata": {},
     "output_type": "execute_result"
    }
   ],
   "source": [
    "character_df.head()"
   ]
  },
  {
   "cell_type": "code",
   "execution_count": 255,
   "id": "630996b4",
   "metadata": {},
   "outputs": [
    {
     "data": {
      "text/plain": [
       "{'available': 4,\n",
       " 'collectionURI': 'http://gateway.marvel.com/v1/public/characters/1017100/comics',\n",
       " 'items': [{'resourceURI': 'http://gateway.marvel.com/v1/public/comics/47176',\n",
       "   'name': 'FREE COMIC BOOK DAY 2013 1 (2013) #1'},\n",
       "  {'resourceURI': 'http://gateway.marvel.com/v1/public/comics/40632',\n",
       "   'name': 'Hulk (2008) #53'},\n",
       "  {'resourceURI': 'http://gateway.marvel.com/v1/public/comics/40630',\n",
       "   'name': 'Hulk (2008) #54'},\n",
       "  {'resourceURI': 'http://gateway.marvel.com/v1/public/comics/40628',\n",
       "   'name': 'Hulk (2008) #55'}],\n",
       " 'returned': 4}"
      ]
     },
     "execution_count": 255,
     "metadata": {},
     "output_type": "execute_result"
    }
   ],
   "source": [
    "character_df['comics'][0]"
   ]
  },
  {
   "cell_type": "code",
   "execution_count": 256,
   "id": "343b713e",
   "metadata": {},
   "outputs": [
    {
     "data": {
      "text/html": [
       "<div>\n",
       "<style scoped>\n",
       "    .dataframe tbody tr th:only-of-type {\n",
       "        vertical-align: middle;\n",
       "    }\n",
       "\n",
       "    .dataframe tbody tr th {\n",
       "        vertical-align: top;\n",
       "    }\n",
       "\n",
       "    .dataframe thead th {\n",
       "        text-align: right;\n",
       "    }\n",
       "</style>\n",
       "<table border=\"1\" class=\"dataframe\">\n",
       "  <thead>\n",
       "    <tr style=\"text-align: right;\">\n",
       "      <th></th>\n",
       "      <th>index</th>\n",
       "      <th>id</th>\n",
       "      <th>name</th>\n",
       "      <th>description</th>\n",
       "      <th>modified</th>\n",
       "      <th>thumbnail</th>\n",
       "      <th>resourceURI</th>\n",
       "      <th>comics</th>\n",
       "      <th>series</th>\n",
       "      <th>stories</th>\n",
       "      <th>events</th>\n",
       "      <th>urls</th>\n",
       "      <th>comics_available</th>\n",
       "      <th>series_available</th>\n",
       "      <th>stories_available</th>\n",
       "      <th>events_available</th>\n",
       "    </tr>\n",
       "  </thead>\n",
       "  <tbody>\n",
       "    <tr>\n",
       "      <th>0</th>\n",
       "      <td>0</td>\n",
       "      <td>1017100</td>\n",
       "      <td>A-Bomb (HAS)</td>\n",
       "      <td>Rick Jones has been Hulk's best bud since day ...</td>\n",
       "      <td>2013-09-18T15:54:04-0400</td>\n",
       "      <td>{'path': 'http://i.annihil.us/u/prod/marvel/i/...</td>\n",
       "      <td>http://gateway.marvel.com/v1/public/characters...</td>\n",
       "      <td>{'available': 4, 'collectionURI': 'http://gate...</td>\n",
       "      <td>{'available': 2, 'collectionURI': 'http://gate...</td>\n",
       "      <td>{'available': 7, 'collectionURI': 'http://gate...</td>\n",
       "      <td>{'available': 0, 'collectionURI': 'http://gate...</td>\n",
       "      <td>[{'type': 'detail', 'url': 'http://marvel.com/...</td>\n",
       "      <td>4</td>\n",
       "      <td>2</td>\n",
       "      <td>7</td>\n",
       "      <td>0</td>\n",
       "    </tr>\n",
       "    <tr>\n",
       "      <th>1</th>\n",
       "      <td>1</td>\n",
       "      <td>1009144</td>\n",
       "      <td>A.I.M.</td>\n",
       "      <td>AIM is a terrorist organization bent on destro...</td>\n",
       "      <td>2013-10-17T14:41:30-0400</td>\n",
       "      <td>{'path': 'http://i.annihil.us/u/prod/marvel/i/...</td>\n",
       "      <td>http://gateway.marvel.com/v1/public/characters...</td>\n",
       "      <td>{'available': 53, 'collectionURI': 'http://gat...</td>\n",
       "      <td>{'available': 36, 'collectionURI': 'http://gat...</td>\n",
       "      <td>{'available': 57, 'collectionURI': 'http://gat...</td>\n",
       "      <td>{'available': 0, 'collectionURI': 'http://gate...</td>\n",
       "      <td>[{'type': 'detail', 'url': 'http://marvel.com/...</td>\n",
       "      <td>53</td>\n",
       "      <td>36</td>\n",
       "      <td>57</td>\n",
       "      <td>0</td>\n",
       "    </tr>\n",
       "    <tr>\n",
       "      <th>2</th>\n",
       "      <td>2</td>\n",
       "      <td>1010699</td>\n",
       "      <td>Aaron Stack</td>\n",
       "      <td></td>\n",
       "      <td>1969-12-31T19:00:00-0500</td>\n",
       "      <td>{'path': 'http://i.annihil.us/u/prod/marvel/i/...</td>\n",
       "      <td>http://gateway.marvel.com/v1/public/characters...</td>\n",
       "      <td>{'available': 14, 'collectionURI': 'http://gat...</td>\n",
       "      <td>{'available': 3, 'collectionURI': 'http://gate...</td>\n",
       "      <td>{'available': 27, 'collectionURI': 'http://gat...</td>\n",
       "      <td>{'available': 0, 'collectionURI': 'http://gate...</td>\n",
       "      <td>[{'type': 'detail', 'url': 'http://marvel.com/...</td>\n",
       "      <td>14</td>\n",
       "      <td>3</td>\n",
       "      <td>27</td>\n",
       "      <td>0</td>\n",
       "    </tr>\n",
       "    <tr>\n",
       "      <th>3</th>\n",
       "      <td>3</td>\n",
       "      <td>1009146</td>\n",
       "      <td>Abomination (Emil Blonsky)</td>\n",
       "      <td>Formerly known as Emil Blonsky, a spy of Sovie...</td>\n",
       "      <td>2012-03-20T12:32:12-0400</td>\n",
       "      <td>{'path': 'http://i.annihil.us/u/prod/marvel/i/...</td>\n",
       "      <td>http://gateway.marvel.com/v1/public/characters...</td>\n",
       "      <td>{'available': 55, 'collectionURI': 'http://gat...</td>\n",
       "      <td>{'available': 27, 'collectionURI': 'http://gat...</td>\n",
       "      <td>{'available': 65, 'collectionURI': 'http://gat...</td>\n",
       "      <td>{'available': 1, 'collectionURI': 'http://gate...</td>\n",
       "      <td>[{'type': 'detail', 'url': 'http://marvel.com/...</td>\n",
       "      <td>55</td>\n",
       "      <td>27</td>\n",
       "      <td>65</td>\n",
       "      <td>1</td>\n",
       "    </tr>\n",
       "    <tr>\n",
       "      <th>4</th>\n",
       "      <td>4</td>\n",
       "      <td>1016823</td>\n",
       "      <td>Abomination (Ultimate)</td>\n",
       "      <td></td>\n",
       "      <td>2012-07-10T19:11:52-0400</td>\n",
       "      <td>{'path': 'http://i.annihil.us/u/prod/marvel/i/...</td>\n",
       "      <td>http://gateway.marvel.com/v1/public/characters...</td>\n",
       "      <td>{'available': 2, 'collectionURI': 'http://gate...</td>\n",
       "      <td>{'available': 2, 'collectionURI': 'http://gate...</td>\n",
       "      <td>{'available': 3, 'collectionURI': 'http://gate...</td>\n",
       "      <td>{'available': 0, 'collectionURI': 'http://gate...</td>\n",
       "      <td>[{'type': 'detail', 'url': 'http://marvel.com/...</td>\n",
       "      <td>2</td>\n",
       "      <td>2</td>\n",
       "      <td>3</td>\n",
       "      <td>0</td>\n",
       "    </tr>\n",
       "  </tbody>\n",
       "</table>\n",
       "</div>"
      ],
      "text/plain": [
       "   index       id                        name  \\\n",
       "0      0  1017100                A-Bomb (HAS)   \n",
       "1      1  1009144                      A.I.M.   \n",
       "2      2  1010699                 Aaron Stack   \n",
       "3      3  1009146  Abomination (Emil Blonsky)   \n",
       "4      4  1016823      Abomination (Ultimate)   \n",
       "\n",
       "                                         description  \\\n",
       "0  Rick Jones has been Hulk's best bud since day ...   \n",
       "1  AIM is a terrorist organization bent on destro...   \n",
       "2                                                      \n",
       "3  Formerly known as Emil Blonsky, a spy of Sovie...   \n",
       "4                                                      \n",
       "\n",
       "                   modified  \\\n",
       "0  2013-09-18T15:54:04-0400   \n",
       "1  2013-10-17T14:41:30-0400   \n",
       "2  1969-12-31T19:00:00-0500   \n",
       "3  2012-03-20T12:32:12-0400   \n",
       "4  2012-07-10T19:11:52-0400   \n",
       "\n",
       "                                           thumbnail  \\\n",
       "0  {'path': 'http://i.annihil.us/u/prod/marvel/i/...   \n",
       "1  {'path': 'http://i.annihil.us/u/prod/marvel/i/...   \n",
       "2  {'path': 'http://i.annihil.us/u/prod/marvel/i/...   \n",
       "3  {'path': 'http://i.annihil.us/u/prod/marvel/i/...   \n",
       "4  {'path': 'http://i.annihil.us/u/prod/marvel/i/...   \n",
       "\n",
       "                                         resourceURI  \\\n",
       "0  http://gateway.marvel.com/v1/public/characters...   \n",
       "1  http://gateway.marvel.com/v1/public/characters...   \n",
       "2  http://gateway.marvel.com/v1/public/characters...   \n",
       "3  http://gateway.marvel.com/v1/public/characters...   \n",
       "4  http://gateway.marvel.com/v1/public/characters...   \n",
       "\n",
       "                                              comics  \\\n",
       "0  {'available': 4, 'collectionURI': 'http://gate...   \n",
       "1  {'available': 53, 'collectionURI': 'http://gat...   \n",
       "2  {'available': 14, 'collectionURI': 'http://gat...   \n",
       "3  {'available': 55, 'collectionURI': 'http://gat...   \n",
       "4  {'available': 2, 'collectionURI': 'http://gate...   \n",
       "\n",
       "                                              series  \\\n",
       "0  {'available': 2, 'collectionURI': 'http://gate...   \n",
       "1  {'available': 36, 'collectionURI': 'http://gat...   \n",
       "2  {'available': 3, 'collectionURI': 'http://gate...   \n",
       "3  {'available': 27, 'collectionURI': 'http://gat...   \n",
       "4  {'available': 2, 'collectionURI': 'http://gate...   \n",
       "\n",
       "                                             stories  \\\n",
       "0  {'available': 7, 'collectionURI': 'http://gate...   \n",
       "1  {'available': 57, 'collectionURI': 'http://gat...   \n",
       "2  {'available': 27, 'collectionURI': 'http://gat...   \n",
       "3  {'available': 65, 'collectionURI': 'http://gat...   \n",
       "4  {'available': 3, 'collectionURI': 'http://gate...   \n",
       "\n",
       "                                              events  \\\n",
       "0  {'available': 0, 'collectionURI': 'http://gate...   \n",
       "1  {'available': 0, 'collectionURI': 'http://gate...   \n",
       "2  {'available': 0, 'collectionURI': 'http://gate...   \n",
       "3  {'available': 1, 'collectionURI': 'http://gate...   \n",
       "4  {'available': 0, 'collectionURI': 'http://gate...   \n",
       "\n",
       "                                                urls  comics_available  \\\n",
       "0  [{'type': 'detail', 'url': 'http://marvel.com/...                 4   \n",
       "1  [{'type': 'detail', 'url': 'http://marvel.com/...                53   \n",
       "2  [{'type': 'detail', 'url': 'http://marvel.com/...                14   \n",
       "3  [{'type': 'detail', 'url': 'http://marvel.com/...                55   \n",
       "4  [{'type': 'detail', 'url': 'http://marvel.com/...                 2   \n",
       "\n",
       "   series_available  stories_available  events_available  \n",
       "0                 2                  7                 0  \n",
       "1                36                 57                 0  \n",
       "2                 3                 27                 0  \n",
       "3                27                 65                 1  \n",
       "4                 2                  3                 0  "
      ]
     },
     "execution_count": 256,
     "metadata": {},
     "output_type": "execute_result"
    }
   ],
   "source": [
    "character_df['comics_available'] = pd.DataFrame.from_records(character_df['comics'])['available']\n",
    "\n",
    "character_df['series_available'] = pd.DataFrame.from_records(character_df['series'])['available']\n",
    "\n",
    "character_df['stories_available'] = pd.DataFrame.from_records(character_df['stories'])['available']\n",
    "\n",
    "character_df['events_available'] = pd.DataFrame.from_records(character_df['events'])['available']\n",
    "character_df.head()"
   ]
  },
  {
   "cell_type": "code",
   "execution_count": 257,
   "id": "3b40753c",
   "metadata": {},
   "outputs": [
    {
     "name": "stderr",
     "output_type": "stream",
     "text": [
      "No artists with labels found to put in legend.  Note that artists whose label start with an underscore are ignored when legend() is called with no argument.\n"
     ]
    },
    {
     "data": {
      "image/png": "[encoded data removed]",
      "text/plain": [
       "<Figure size 640x480 with 1 Axes>"
      ]
     },
     "metadata": {},
     "output_type": "display_data"
    }
   ],
   "source": [
    "character_df = character_df.sort_values(by=['events_available'],ascending=False)\n",
    "fig, ax = plt.subplots()\n",
    "\n",
    "x_labels = character_df['name'].values[:25]\n",
    "events_available_count = creators_df['events_available'].values[:25]\n",
    "\n",
    "\n",
    "ax.bar(x_labels, events_available_count)\n",
    "\n",
    "ax.set_xlabel('Character')\n",
    "ax.set_ylabel('Events Count')\n",
    "ax.set_title('Top Characters by Events ')\n",
    "ax.legend(title='Events count')\n",
    "plt.xticks(rotation=45, ha='right')\n",
    "plt.show()"
   ]
  },
  {
   "cell_type": "code",
   "execution_count": 258,
   "id": "219eb15d",
   "metadata": {},
   "outputs": [
    {
     "name": "stderr",
     "output_type": "stream",
     "text": [
      "No artists with labels found to put in legend.  Note that artists whose label start with an underscore are ignored when legend() is called with no argument.\n"
     ]
    },
    {
     "data": {
      "image/png": "[encoded data removed]",
      "text/plain": [
       "<Figure size 640x480 with 1 Axes>"
      ]
     },
     "metadata": {},
     "output_type": "display_data"
    }
   ],
   "source": [
    "character_df = character_df.sort_values(by=['comics_available'],ascending=False)\n",
    "fig, ax = plt.subplots()\n",
    "\n",
    "x_labels = character_df['name'].values[:25]\n",
    "comics_available_count = creators_df['comics_available'].values[:25]\n",
    "\n",
    "\n",
    "ax.bar(x_labels, comics_available_count)\n",
    "\n",
    "ax.set_xlabel('Character')\n",
    "ax.set_ylabel('Comics Count')\n",
    "ax.set_title('Top Characters by Comics ')\n",
    "ax.legend(title='Comics count')\n",
    "plt.xticks(rotation=45, ha='right')\n",
    "plt.show()"
   ]
  },
  {
   "cell_type": "code",
   "execution_count": null,
   "id": "6ab265dc",
   "metadata": {},
   "outputs": [],
   "source": []
  },
  {
   "cell_type": "code",
   "execution_count": null,
   "id": "74f4337e",
   "metadata": {},
   "outputs": [],
   "source": []
  },
  {
   "cell_type": "code",
   "execution_count": null,
   "id": "9cdd11bc",
   "metadata": {},
   "outputs": [],
   "source": []
  },
  {
   "cell_type": "code",
   "execution_count": null,
   "id": "62148a66",
   "metadata": {},
   "outputs": [],
   "source": []
  },
  {
   "cell_type": "code",
   "execution_count": null,
   "id": "997d831c",
   "metadata": {},
   "outputs": [],
   "source": []
  },
  {
   "cell_type": "code",
   "execution_count": null,
   "id": "764799ee",
   "metadata": {},
   "outputs": [],
   "source": []
  },
  {
   "cell_type": "code",
   "execution_count": null,
   "id": "4722f00c",
   "metadata": {},
   "outputs": [],
   "source": []
  },
  {
   "cell_type": "code",
   "execution_count": null,
   "id": "35da7df4",
   "metadata": {},
   "outputs": [],
   "source": []
  },
  {
   "cell_type": "code",
   "execution_count": null,
   "id": "9a60e08c",
   "metadata": {},
   "outputs": [],
   "source": []
  },
  {
   "cell_type": "code",
   "execution_count": null,
   "id": "3e76f65c",
   "metadata": {},
   "outputs": [],
   "source": []
  },
  {
   "cell_type": "code",
   "execution_count": null,
   "id": "34967dbf",
   "metadata": {},
   "outputs": [],
   "source": []
  },
  {
   "cell_type": "code",
   "execution_count": null,
   "id": "775b6aa1",
   "metadata": {},
   "outputs": [],
   "source": []
  },
  {
   "cell_type": "code",
   "execution_count": null,
   "id": "04c64d07",
   "metadata": {},
   "outputs": [],
   "source": []
  },
  {
   "cell_type": "code",
   "execution_count": null,
   "id": "c7a6777a",
   "metadata": {},
   "outputs": [],
   "source": []
  },
  {
   "cell_type": "code",
   "execution_count": null,
   "id": "dc7bd3bb",
   "metadata": {},
   "outputs": [],
   "source": []
  },
  {
   "cell_type": "markdown",
   "id": "fb77c57e",
   "metadata": {},
   "source": []
  },
  {
   "cell_type": "code",
   "execution_count": null,
   "id": "21d3debf",
   "metadata": {},
   "outputs": [],
   "source": []
  },
  {
   "cell_type": "code",
   "execution_count": null,
   "id": "0c61950e",
   "metadata": {},
   "outputs": [],
   "source": []
  },
  {
   "cell_type": "code",
   "execution_count": null,
   "id": "22e4a62e",
   "metadata": {},
   "outputs": [],
   "source": []
  },
  {
   "cell_type": "code",
   "execution_count": null,
   "id": "2c048d60",
   "metadata": {},
   "outputs": [],
   "source": []
  },
  {
   "cell_type": "code",
   "execution_count": null,
   "id": "41d53ab2",
   "metadata": {},
   "outputs": [],
   "source": []
  },
  {
   "cell_type": "code",
   "execution_count": null,
   "id": "e6f2ae03",
   "metadata": {},
   "outputs": [],
   "source": []
  },
  {
   "cell_type": "code",
   "execution_count": null,
   "id": "87141050",
   "metadata": {},
   "outputs": [],
   "source": []
  },
  {
   "cell_type": "code",
   "execution_count": null,
   "id": "7d16f000",
   "metadata": {},
   "outputs": [],
   "source": []
  },
  {
   "cell_type": "code",
   "execution_count": null,
   "id": "4416afe5",
   "metadata": {},
   "outputs": [],
   "source": []
  },
  {
   "cell_type": "code",
   "execution_count": null,
   "id": "eb10964b",
   "metadata": {},
   "outputs": [],
   "source": []
  },
  {
   "cell_type": "code",
   "execution_count": null,
   "id": "957bfa0d",
   "metadata": {},
   "outputs": [],
   "source": []
  },
  {
   "cell_type": "code",
   "execution_count": null,
   "id": "c22d4ab5",
   "metadata": {},
   "outputs": [],
   "source": []
  },
  {
   "cell_type": "code",
   "execution_count": null,
   "id": "d1a51cc2",
   "metadata": {},
   "outputs": [],
   "source": []
  },
  {
   "cell_type": "code",
   "execution_count": null,
   "id": "892f6072",
   "metadata": {},
   "outputs": [],
   "source": []
  },
  {
   "cell_type": "code",
   "execution_count": null,
   "id": "169fdea6",
   "metadata": {},
   "outputs": [],
   "source": []
  },
  {
   "cell_type": "code",
   "execution_count": null,
   "id": "3a81e555",
   "metadata": {},
   "outputs": [],
   "source": []
  },
  {
   "cell_type": "code",
   "execution_count": null,
   "id": "7ddefef2",
   "metadata": {},
   "outputs": [],
   "source": []
  },
  {
   "cell_type": "code",
   "execution_count": null,
   "id": "86c0ffe5",
   "metadata": {},
   "outputs": [],
   "source": []
  },
  {
   "cell_type": "code",
   "execution_count": null,
   "id": "4e455a7d",
   "metadata": {},
   "outputs": [],
   "source": []
  },
  {
   "cell_type": "code",
   "execution_count": null,
   "id": "02dc5033",
   "metadata": {},
   "outputs": [],
   "source": []
  },
  {
   "cell_type": "code",
   "execution_count": null,
   "id": "e22fbf96",
   "metadata": {},
   "outputs": [],
   "source": []
  }
 ],
 "metadata": {
  "kernelspec": {
   "display_name": "Python 3 (ipykernel)",
   "language": "python",
   "name": "python3"
  },
  "language_info": {
   "codemirror_mode": {
    "name": "ipython",
    "version": 3
   },
   "file_extension": ".py",
   "mimetype": "text/x-python",
   "name": "python",
   "nbconvert_exporter": "python",
   "pygments_lexer": "ipython3",
   "version": "3.10.12"
  }
 },
 "nbformat": 4,
 "nbformat_minor": 5
}
